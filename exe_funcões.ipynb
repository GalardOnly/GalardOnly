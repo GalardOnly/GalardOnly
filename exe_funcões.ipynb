{
  "cells": [
    {
      "cell_type": "markdown",
      "metadata": {
        "id": "view-in-github",
        "colab_type": "text"
      },
      "source": [
        "<a href=\"https://colab.research.google.com/github/GalardOnly/GalardOnly/blob/main/exe_func%C3%B5es.ipynb\" target=\"_parent\"><img src=\"https://colab.research.google.com/assets/colab-badge.svg\" alt=\"Open In Colab\"/></a>"
      ]
    },
    {
      "cell_type": "code",
      "source": [
        "def mdc(numero_1, numero_2):\n",
        "    if numero_2 == 0:\n",
        "        return numero_1, numero_2\n",
        "    resto = numero_1 % numero_2\n",
        "    return mdc(numero_2, resto)\n",
        "\n",
        "numero_1 = int(input(\"Digite o valor do primeiro numero: \"))\n",
        "numero_2 = int(input(\"Digite o valor do segundo numero: \"))\n",
        "\n",
        "resultado_mdc, ultimo_valor = mdc(numero_1, numero_2)\n",
        "\n",
        "print(f\"O MDC é {resultado_mdc} e o último valor é {ultimo_valor}\")"
      ],
      "metadata": {
        "colab": {
          "base_uri": "https://localhost:8080/"
        },
        "id": "HOYp0b6Kl4lB",
        "outputId": "e6c3c6c3-a48e-4254-a09c-452e3c1d3236"
      },
      "execution_count": null,
      "outputs": [
        {
          "output_type": "stream",
          "name": "stdout",
          "text": [
            "Digite o valor do primeiro numero: 40\n",
            "Digite o valor do segundo numero: 3\n",
            "O MDC é 1 e o último valor é 0\n"
          ]
        }
      ]
    },
    {
      "cell_type": "code",
      "source": [
        "def mdc(numero_1, numero_2):\n",
        "    if numero_2 == 0:\n",
        "        return numero_1\n",
        "    return mdc(numero_2, numero_1 % numero_2)\n",
        "\n",
        "\n",
        "def mmc(numero_1, numero_2):\n",
        "    return abs(numero_1 * numero_2) / mdc(numero_1, numero_2)\n",
        "\n",
        "numero_1 = int(input(\"digite o valor do primeiro numero: \"))\n",
        "numero_2 = int(input(\"digite o valor do segundo numero:\"))\n",
        "print(f\"O resultado do mmc é {mmc(numero_1, numero_2)}, {numero_1}, {numero_2}\")"
      ],
      "metadata": {
        "colab": {
          "base_uri": "https://localhost:8080/"
        },
        "id": "bscsD8Ovl7tO",
        "outputId": "d7994bf4-936e-46a6-d4c2-a6876cb06372"
      },
      "execution_count": null,
      "outputs": [
        {
          "output_type": "stream",
          "name": "stdout",
          "text": [
            "digite o valor do primeiro numero: 2\n",
            "digite o valor do segundo numero:5\n",
            "O resultado do mmc é 10.0, 2, 5\n"
          ]
        }
      ]
    },
    {
      "cell_type": "code",
      "source": [
        "def mdc(numero_1, numero_2):\n",
        "    if numero_2 == 0:\n",
        "        return numero_1\n",
        "    return mdc(numero_2, numero_1 % numero_2)\n",
        "\n",
        "numeros = []\n",
        "\n",
        "quantidade_numeros = int(input(\"Quantos números você quer inserir? \"))\n",
        "\n",
        "for i in range(quantidade_numeros):\n",
        "    numero = int(input(f\"Digite o número {i+1}: \"))\n",
        "    numeros.append(numero)\n",
        "    if numero == 0:\n",
        "        print(\"Número 0 não é válido. Por favor, insira números válidos.\")\n",
        "        break\n",
        "\n",
        "if len(numeros) > 1:\n",
        "    resultado_mdc = numeros[0]\n",
        "    for num in numeros[1:]:\n",
        "        resultado_mdc = mdc(resultado_mdc, num)\n",
        "\n",
        "    print(f\"O MDC dos números {numeros} é: {resultado_mdc}\")\n",
        "else:\n",
        "    print(\"É necessário inserir ao menos dois números válidos.\")\n",
        "\n"
      ],
      "metadata": {
        "colab": {
          "base_uri": "https://localhost:8080/"
        },
        "id": "QZvNrmUln6IR",
        "outputId": "6a874f51-0c68-4882-d3c4-f0b2e231f035"
      },
      "execution_count": null,
      "outputs": [
        {
          "output_type": "stream",
          "name": "stdout",
          "text": [
            "Quantos números você quer inserir? 2\n",
            "Digite o número 1: 36\n",
            "Digite o número 2: 23\n",
            "O MDC dos números [36, 23] é: 1\n"
          ]
        }
      ]
    },
    {
      "cell_type": "code",
      "source": [
        "def mdc(numero_1, numero_2):\n",
        "    if numero_2 == 0:\n",
        "        return numero_1\n",
        "    return mdc(numero_2, numero_1 % numero_2)\n",
        "\n",
        "def mmc(numero_1, numero_2):\n",
        "    return abs(numero_1 * numero_2) // mdc(numero_1, numero_2)\n",
        "\n",
        "\n",
        "numeros = []\n",
        "\n",
        "quantidade_numeros = int(input(\"Quantos números você quer inserir? \"))\n",
        "\n",
        "for i in range(quantidade_numeros):\n",
        "    numero = int(input(f\"Digite o número {i+1}: \"))\n",
        "    if numero == 0:\n",
        "        print(\"O número não pode ser 0. Por favor, insira números válidos.\")\n",
        "        break\n",
        "    numeros.append(numero)\n",
        "\n",
        "if len(numeros) > 1:\n",
        "    resultado_mmc = numeros[0]\n",
        "    for num in numeros[1:]:\n",
        "        resultado_mmc = mmc(resultado_mmc, num)\n",
        "\n",
        "    print(f\"O MMC dos números {numeros} é: {resultado_mmc}\")\n",
        "else:\n",
        "    print(\"É necessário inserir ao menos dois números válidos.\")\n"
      ],
      "metadata": {
        "colab": {
          "base_uri": "https://localhost:8080/"
        },
        "id": "KG7xfq-PqIyp",
        "outputId": "5e1556fe-1362-4680-939f-e1c8d9f1b722"
      },
      "execution_count": null,
      "outputs": [
        {
          "output_type": "stream",
          "name": "stdout",
          "text": [
            "Quantos números você quer inserir? 5\n",
            "Digite o número 1: 2\n",
            "Digite o número 2: 3\n",
            "Digite o número 3: 4\n",
            "Digite o número 4: 9\n",
            "Digite o número 5: 8\n",
            "O MMC dos números [2, 3, 4, 9, 8] é: 72\n"
          ]
        }
      ]
    }
  ],
  "metadata": {
    "kernelspec": {
      "display_name": "Python 3",
      "language": "python",
      "name": "python3"
    },
    "language_info": {
      "codemirror_mode": {
        "name": "ipython",
        "version": 3
      },
      "file_extension": ".py",
      "mimetype": "text/x-python",
      "name": "python",
      "nbconvert_exporter": "python",
      "pygments_lexer": "ipython3",
      "version": "3.7.6"
    },
    "colab": {
      "provenance": [],
      "include_colab_link": true
    }
  },
  "nbformat": 4,
  "nbformat_minor": 0
}